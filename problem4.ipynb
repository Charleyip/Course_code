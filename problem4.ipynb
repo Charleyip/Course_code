{
 "cells": [
  {
   "cell_type": "markdown",
   "metadata": {
    "button": false,
    "deletable": true,
    "id": "DDJwQPZcupab",
    "new_sheet": false,
    "run_control": {
     "read_only": false
    }
   },
   "source": [
    "# LIS 640 Applied Deep Learning : Convolutional Neural Networks"
   ]
  },
  {
   "cell_type": "markdown",
   "metadata": {},
   "source": [
    "Let's try some real applications with Pytorch. In this section, we will directly use Pytoch functions to build a LeNet-5 model. Then we test the model on MNIST dataset. Your task is to compute the lacked `Output Size` and finish building the architecture in `problem4.py`. We will use functions like Linear, Conv2d, ReLU, MaxPool2d in Pytorch. Refer to [https://pytorch.org/docs/stable/nn.functional.html](https://pytorch.org/docs/stable/nn.functional.html) for more information."
   ]
  },
  {
   "cell_type": "markdown",
   "metadata": {
    "button": false,
    "deletable": true,
    "id": "aQW_w1Wzw72f",
    "new_sheet": false,
    "run_control": {
     "read_only": false
    },
    "tags": [
     "pdf-title"
    ]
   },
   "source": [
    "# LeNet-5\n",
    "\n",
    "The following Table shows the LeNet-5 model architecture and part of the output sizes."
   ]
  },
  {
   "cell_type": "markdown",
   "metadata": {},
   "source": [
    "\n",
    "|Layer|Output Size|\n",
    "|----|----|\n",
    "|$Input$|1\\*28\\*28|\n",
    "|$Conv(C_{out}=20, K=5, P=2, S=1)$||\n",
    "|$ReLU$||\n",
    "|$MaxPool(K=2, S=2)$||\n",
    "|$Conv(C_{out}=50, K=5, P=2, S=1)$||\n",
    "|$ReLU$||\n",
    "|$MaxPool(K=2, S=2)$||\n",
    "|$Flatten$||\n",
    "|$Linear$|500|\n",
    "|$ReLU$|500|\n",
    "|$Linear$|10|"
   ]
  },
  {
   "cell_type": "code",
   "execution_count": 1,
   "metadata": {},
   "outputs": [
    {
     "name": "stdout",
     "output_type": "stream",
     "text": [
      "LeNet Model: \n",
      "LeNet(\n",
      "  (conv1): Conv2d(1, 20, kernel_size=(5, 5), stride=(1, 1), padding=(2, 2))\n",
      "  (conv2): Conv2d(20, 50, kernel_size=(5, 5), stride=(1, 1), padding=(2, 2))\n",
      "  (fc1): Linear(in_features=2450, out_features=500, bias=True)\n",
      "  (fc2): Linear(in_features=500, out_features=10, bias=True)\n",
      "  (relu): ReLU()\n",
      "  (pool): MaxPool2d(kernel_size=2, stride=2, padding=0, dilation=1, ceil_mode=False)\n",
      ")\n"
     ]
    }
   ],
   "source": [
    "from problem4 import LeNet\n",
    "\n",
    "print(\"LeNet Model: \")\n",
    "model = LeNet()\n",
    "print(model)"
   ]
  },
  {
   "cell_type": "markdown",
   "metadata": {},
   "source": [
    "Let's start testing our model on MNIST dataset."
   ]
  },
  {
   "cell_type": "code",
   "execution_count": 2,
   "metadata": {},
   "outputs": [
    {
     "name": "stdout",
     "output_type": "stream",
     "text": [
      "Epoch 0\n",
      "Training loss: 0.22340789437294006\n",
      "Training Acc: 0.9323166666666667\n",
      "Validation loss: 0.08622178435325623\n",
      "Validation Acc: 0.972\n",
      "Epoch 1\n",
      "Training loss: 0.09765371680259705\n",
      "Training Acc: 0.9710666666666666\n",
      "Validation loss: 0.08063618838787079\n",
      "Validation Acc: 0.9746\n",
      "Epoch 2\n",
      "Training loss: 0.0894680768251419\n",
      "Training Acc: 0.9739333333333333\n",
      "Validation loss: 0.09125841408967972\n",
      "Validation Acc: 0.9744\n",
      "Epoch 3\n",
      "Training loss: 0.08500745892524719\n",
      "Training Acc: 0.97465\n",
      "Validation loss: 0.08929247409105301\n",
      "Validation Acc: 0.9767\n",
      "Epoch 4\n",
      "Training loss: 0.0766744315624237\n",
      "Training Acc: 0.9783833333333334\n",
      "Validation loss: 0.08361557871103287\n",
      "Validation Acc: 0.9765\n",
      "Epoch 5\n",
      "Training loss: 0.07315342873334885\n",
      "Training Acc: 0.9794333333333334\n",
      "Validation loss: 0.12178327143192291\n",
      "Validation Acc: 0.9661\n",
      "Epoch 6\n",
      "Training loss: 0.0744248479604721\n",
      "Training Acc: 0.9798333333333333\n",
      "Validation loss: 0.08267689496278763\n",
      "Validation Acc: 0.9781\n",
      "Epoch 7\n",
      "Training loss: 0.07364869117736816\n",
      "Training Acc: 0.9799666666666667\n",
      "Validation loss: 0.10458584874868393\n",
      "Validation Acc: 0.9773\n",
      "Epoch 8\n",
      "Training loss: 0.07396196573972702\n",
      "Training Acc: 0.9805166666666667\n",
      "Validation loss: 0.12157487124204636\n",
      "Validation Acc: 0.9677\n",
      "Epoch 9\n",
      "Training loss: 0.06861268728971481\n",
      "Training Acc: 0.9812333333333333\n",
      "Validation loss: 0.08056294918060303\n",
      "Validation Acc: 0.9799\n"
     ]
    }
   ],
   "source": [
    "from problem4 import LeNet\n",
    "import torch.optim as optim\n",
    "import torchvision.datasets as datasets\n",
    "import torchvision.transforms as transforms\n",
    "from torch.utils.data import DataLoader\n",
    "import torch.nn as nn\n",
    "import torch\n",
    "\n",
    "# hyperparameters\n",
    "learning_rate = 0.01\n",
    "num_epochs = 10\n",
    "\n",
    "# load dataset\n",
    "train_dataset = datasets.MNIST(root='dataset/', train=True, \n",
    "                               transform=transforms.Compose([transforms.ToTensor()]), download=True)\n",
    "test_dataset = datasets.MNIST(root='dataset/', train=False, \n",
    "                              transform=transforms.Compose([transforms.ToTensor()]), download=True)\n",
    "\n",
    "train_loader = DataLoader(dataset=train_dataset, batch_size=64, shuffle=True)\n",
    "test_loader = DataLoader(dataset=test_dataset, batch_size=64)\n",
    "dataset_sizes = {'train':len(train_dataset), 'test':len(test_dataset)}\n",
    "\n",
    "# load model\n",
    "model = LeNet().cuda()\n",
    "\n",
    "# define loss\n",
    "ce_loss = nn.CrossEntropyLoss()\n",
    "\n",
    "# define optimizer\n",
    "optimizer = optim.Adam(model.parameters(), lr=learning_rate)\n",
    "\n",
    "# start training\n",
    "for epoch in range(num_epochs):\n",
    "    \n",
    "    print('Epoch', epoch)\n",
    "    running_loss = 0.0\n",
    "    valid_loss = 0.0\n",
    "    model.train()\n",
    "\n",
    "    correct = 0\n",
    "    for data in train_loader: # dataloaders[0] is train loader\n",
    "        \n",
    "        inputs, labels  = data\n",
    "        batch_size = inputs.shape[0]\n",
    "    \n",
    "        inputs = inputs.cuda()\n",
    "        labels = labels.cuda()\n",
    "    \n",
    "        optimizer.zero_grad()\n",
    "        outputs = model(inputs)\n",
    "        loss = ce_loss(outputs, labels)\n",
    "        loss.backward()\n",
    "        optimizer.step()\n",
    "                    \n",
    "        correct += (torch.argmax(outputs,dim=1)==labels).sum().item()            \n",
    "        running_loss += loss.data * batch_size\n",
    "\n",
    "    epoch_loss = running_loss / dataset_sizes[\"train\"]\n",
    "    print('Training loss:', epoch_loss.item())\n",
    "    print('Training Acc:', correct/dataset_sizes[\"train\"])\n",
    "    \n",
    "    # evaluation each epoch\n",
    "    model.eval()\n",
    "\n",
    "    with torch.no_grad():\n",
    "        correct = 0\n",
    "        for data in test_loader:\n",
    "            inputs, labels  = data\n",
    "            batch_size = inputs.shape[0]\n",
    "\n",
    "            inputs = inputs.cuda()\n",
    "            labels = labels.cuda()\n",
    "\n",
    "            outputs = model(inputs)\n",
    "            optimizer.zero_grad()\n",
    "            loss = ce_loss(outputs, labels)\n",
    "        \n",
    "            correct += (torch.argmax(outputs,dim=1)==labels).sum().item()\n",
    "            valid_loss += loss.data * batch_size\n",
    "\n",
    "        epoch_valid_loss = valid_loss / dataset_sizes[\"test\"]\n",
    "        print('Validation loss:', epoch_valid_loss.item())\n",
    "        print('Validation Acc:', correct/dataset_sizes[\"test\"])"
   ]
  }
 ],
 "metadata": {
  "accelerator": "GPU",
  "colab": {
   "collapsed_sections": [],
   "name": "convolutional_networks.ipynb",
   "provenance": [],
   "toc_visible": true
  },
  "kernelspec": {
   "display_name": "Python 3",
   "language": "python",
   "name": "python3"
  },
  "language_info": {
   "codemirror_mode": {
    "name": "ipython",
    "version": 3
   },
   "file_extension": ".py",
   "mimetype": "text/x-python",
   "name": "python",
   "nbconvert_exporter": "python",
   "pygments_lexer": "ipython3",
   "version": "3.11.5"
  }
 },
 "nbformat": 4,
 "nbformat_minor": 0
}
